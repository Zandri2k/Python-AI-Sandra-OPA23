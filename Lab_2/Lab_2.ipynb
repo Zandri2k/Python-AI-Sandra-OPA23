{
 "cells": [
  {
   "cell_type": "markdown",
   "metadata": {},
   "source": [
    "# Laboration Deep learning \n",
    "### \n",
    "I den här labben kommer du få jobba med bildbehandling, filhantering, bygga upp egna tränings, validerings\n",
    "och testdataset från en mängd av bilder. Vidare får du jobba med begränsade datamängder för att efterlikna\n",
    "verkligheten när dataanskaffning är en oerhört dyr process. Efter databehandlingen och databearbetningen\n",
    "kommer du få pröva olika slags convolutional neural networks tränade från scratch och slutligen använda\n",
    "dig av transfer learning för att återanvända nätverk skapade av toppforskare inom computer vision."
   ]
  },
  {
   "cell_type": "markdown",
   "metadata": {},
   "source": []
  },
  {
   "cell_type": "code",
   "execution_count": 1,
   "metadata": {},
   "outputs": [],
   "source": [
    "import matplotlib.pyplot as plt\n",
    "import numpy as np\n",
    "import seaborn as sns\n",
    "import cv2\n",
    "from pathlib import Path"
   ]
  },
  {
   "cell_type": "markdown",
   "metadata": {},
   "source": [
    "## b) Läs in 10 bilder slumpmässigt, plotta dem och extrahera deras labels och skriv ut i titeln."
   ]
  },
  {
   "cell_type": "code",
   "execution_count": 7,
   "metadata": {},
   "outputs": [
    {
     "data": {
      "text/plain": [
       "WindowsPath('c:/CODING/Github/Python-AI-Sandra-OPA23/Lab_2/original_data')"
      ]
     },
     "execution_count": 7,
     "metadata": {},
     "output_type": "execute_result"
    }
   ],
   "source": [
    "# Checking my data position\n",
    "Path().absolute() / \"original_data\""
   ]
  },
  {
   "cell_type": "code",
   "execution_count": 55,
   "metadata": {},
   "outputs": [
    {
     "name": "stdout",
     "output_type": "stream",
     "text": [
      "current_Path = WindowsPath('c:/CODING/Github/Python-AI-Sandra-OPA23/Lab_2')\n",
      "data_path = WindowsPath('c:/CODING/Github/Python-AI-Sandra-OPA23/Lab_2/original_data/train/train')\n",
      "Antal lästa bilder: 10\n"
     ]
    }
   ],
   "source": [
    "#Creating a funtion to open the images \n",
    "def read_images (folder_path):\n",
    "    current_Path = Path().absolute()\n",
    "    print(f\"{current_Path = }\")\n",
    "    data_path = current_Path / \"original_data\" / \"train\" / \"train\"\n",
    "    print(f\"{data_path = }\")\n",
    "    #\n",
    "    images = []\n",
    "    image_paths = []\n",
    "    for i in range(1, 11): #läser 10 bilder \n",
    "        image_file = data_path / f\"cat.{i}.jpg\"\n",
    "      \n",
    "        image = cv2.imread(str(image_file))\n",
    "        if image is not None:\n",
    "            images.append(image)\n",
    "            image_paths.append(str(image_file))\n",
    "\n",
    "    return images, image_paths\n",
    "\n",
    "\n",
    "\n",
    "# min sökväg\n",
    "folder_path = Path( \"original_data\") / \"train\" / \"train\"\n",
    "\n",
    "# Läs in bilderna\n",
    "images, image_paths = read_images(folder_path)\n",
    "\n",
    "# Skriv ut antalet lästa bilder\n",
    "print(f\"Antal lästa bilder: {len(images)}\")\n",
    "\n",
    "    "
   ]
  },
  {
   "cell_type": "code",
   "execution_count": 56,
   "metadata": {},
   "outputs": [],
   "source": [
    "def plot_image(images, labels):\n",
    "    num_images = len(images)\n",
    "    "
   ]
  }
 ],
 "metadata": {
  "kernelspec": {
   "display_name": "venv",
   "language": "python",
   "name": "python3"
  },
  "language_info": {
   "codemirror_mode": {
    "name": "ipython",
    "version": 3
   },
   "file_extension": ".py",
   "mimetype": "text/x-python",
   "name": "python",
   "nbconvert_exporter": "python",
   "pygments_lexer": "ipython3",
   "version": "3.11.7"
  }
 },
 "nbformat": 4,
 "nbformat_minor": 2
}
