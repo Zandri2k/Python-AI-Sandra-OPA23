{
 "cells": [
  {
   "cell_type": "code",
   "execution_count": 2,
   "metadata": {},
   "outputs": [],
   "source": [
    "from sklearn.model_selection import train_test_split\n",
    "import random\n",
    "import shutil\n",
    "from pathlib import Path\n",
    "\n",
    "#skapar filvägar for the files\n",
    "source_dir = Path().absolute() / \"original_data\" / \"train\" / \"train\"\n",
    "train_destination_dir = Path().absolute() /\"experiment_small_data/\" / \"train\"\n",
    "val_destination_dir = Path().absolute() / \"experiment_small_data\" / \"val\" \n",
    "test_destination_dir = Path().absolute() / \"experiment_small_data\" / \"test\"\n",
    "\n",
    "train_destination_dir.mkdir(parents=True, exist_ok=True)\n",
    "val_destination_dir.mkdir(parents=True,exist_ok=True )\n",
    "test_destination_dir.mkdir(parents=True, exist_ok=True)\n",
    "\n",
    "files = [file.name for file in train_destination_dir.iterdir()]\n",
    "random.shuffle(files)\n",
    "\n",
    "# skapar lista ac hundar och katter\n",
    "cat_list =list (source_dir.glob(\"cat*\"))\n",
    "dog_list = list(source_dir.glob(\"dog*\"))\n",
    "\n",
    "#shufflar listan \n",
    "random.shuffle(cat_list)\n",
    "random.shuffle(dog_list)\n",
    "\n",
    "\n",
    "\n",
    "list (source_dir.glob(\"cat*\"))\n",
    "\n",
    "\n",
    "\n",
    "for file in cat_list[:800]:\n",
    "    destination_dir = train_destination_dir / file.name\n",
    "    shutil.copy(file, destination_dir)\n",
    "\n",
    "for file in dog_list[:800]:\n",
    "    destination_dir = train_destination_dir / file.name\n",
    "    shutil.copy(file, destination_dir)\n",
    "\n",
    "for file in cat_list[1000:1200]:  #by using 1000:1200 we make sure that we dont take any pictures thats already been taken\n",
    "    destination_dir = val_destination_dir / file.name\n",
    "    shutil.copy(file, destination_dir)\n",
    "\n",
    "for file in dog_list[1000:1200]:\n",
    "    destination_dir = val_destination_dir / file.name\n",
    "    shutil.copy(file, destination_dir)\n",
    "\n",
    "for file in cat_list [1300:1550]:\n",
    "    destination_dir = test_destination_dir / file.name\n",
    "    shutil.copy(file, destination_dir)\n",
    "\n",
    "for file in dog_list [1300:1550]:\n",
    "    destination_dir = test_destination_dir / file.name\n",
    "    shutil.copy(file, destination_dir)\n",
    "\n",
    "\n",
    "\n",
    "\n"
   ]
  },
  {
   "cell_type": "code",
   "execution_count": 11,
   "metadata": {},
   "outputs": [
    {
     "data": {
      "text/plain": [
       "800"
      ]
     },
     "execution_count": 11,
     "metadata": {},
     "output_type": "execute_result"
    }
   ],
   "source": [
    "len(list(train_destination_dir.glob(\"dog*\")))"
   ]
  },
  {
   "cell_type": "code",
   "execution_count": 9,
   "metadata": {},
   "outputs": [
    {
     "data": {
      "text/plain": [
       "200"
      ]
     },
     "execution_count": 9,
     "metadata": {},
     "output_type": "execute_result"
    }
   ],
   "source": [
    "len(list(val_destination_dir.glob(\"dog*\")))"
   ]
  },
  {
   "cell_type": "code",
   "execution_count": 7,
   "metadata": {},
   "outputs": [
    {
     "data": {
      "text/plain": [
       "250"
      ]
     },
     "execution_count": 7,
     "metadata": {},
     "output_type": "execute_result"
    }
   ],
   "source": [
    "len(list(test_destination_dir.glob(\"dog*\")))"
   ]
  }
 ],
 "metadata": {
  "kernelspec": {
   "display_name": "venv",
   "language": "python",
   "name": "python3"
  },
  "language_info": {
   "codemirror_mode": {
    "name": "ipython",
    "version": 3
   },
   "file_extension": ".py",
   "mimetype": "text/x-python",
   "name": "python",
   "nbconvert_exporter": "python",
   "pygments_lexer": "ipython3",
   "version": "3.11.7"
  }
 },
 "nbformat": 4,
 "nbformat_minor": 2
}
